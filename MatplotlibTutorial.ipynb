{
 "cells": [
  {
   "cell_type": "markdown",
   "id": "79b1bbef",
   "metadata": {},
   "source": []
  },
  {
   "cell_type": "markdown",
   "id": "c1219363",
   "metadata": {},
   "source": [
    "<h1></h1>"
   ]
  },
  {
   "cell_type": "code",
   "execution_count": null,
   "id": "c5568b44",
   "metadata": {},
   "outputs": [],
   "source": []
  }
 ],
 "metadata": {
  "language_info": {
   "name": "python"
  }
 },
 "nbformat": 4,
 "nbformat_minor": 5
}
